{
 "cells": [
  {
   "cell_type": "markdown",
   "metadata": {},
   "source": [
    "# Commands and Variables"
   ]
  },
  {
   "cell_type": "code",
   "execution_count": null,
   "metadata": {
    "code_folding": []
   },
   "outputs": [],
   "source": [
    "#We will implement the method in the arXiv:1707.07658v2 paper\n",
    "\n",
    "import math\n",
    "import numpy as np\n",
    "import matplotlib\n",
    "import matplotlib.pyplot as plt\n",
    "from tqdm import tqdm_notebook as tqdm\n",
    "from IPython.display import HTML\n",
    "\n",
    "from projectq import MainEngine  # import the main compiler engine\n",
    "from projectq.ops import H, Swap, Tensor, Toffoli, QFT, All, X, Z, Measure, CNOT, StatePreparation, Rx, Ry, Rz, QubitOperator  # import the operations we want to perform (Hadamard and measurement)\n",
    "from projectq.meta import Control, Dagger, Loop\n",
    "from projectq.backends import CircuitDrawer\n",
    "\n",
    "from openfermion.ops import FermionOperator  #the creation annihilation operators\n",
    "from openfermion.utils import hermitian_conjugated\n",
    "from openfermion.transforms import jordan_wigner, get_sparse_operator\n",
    "from openfermion.utils import eigenspectrum, trotterize_exp_qubop_to_qasm as trot\n",
    "\n",
    "circuit_backend = CircuitDrawer()\n",
    "#eng = MainEngine(circuit_backend) #uncomment if we want to get a circuit drawing\n",
    "eng = MainEngine()\n",
    "\n",
    "N_lattice = 3\n",
    "precision_eigenvalue = 1\n",
    "precision_evolution_time = 0.01"
   ]
  },
  {
   "cell_type": "markdown",
   "metadata": {},
   "source": [
    "# General Functions \n"
   ]
  },
  {
   "cell_type": "code",
   "execution_count": null,
   "metadata": {},
   "outputs": [],
   "source": [
    "#Function that writes the decimal value of the binary value with input a list with the binary values\n",
    "def FractionalBinaryToDecimal(BinaryList):\n",
    "    DecimalValue = 0.0\n",
    "    #Since the value of the angle is not exact in base 2, for n bit precision and Prob(correct) = epsilon we need t = n + log( 2 + 1/ 2epsilon). If we take 4 qubits as extra we get an epsilon of 1/28 = 0.036, and taking t = 10 qubits we can get to a good angle close to our wanted value (Either 0.3918265 or 0.67967358), to get a real part of 7/9.\n",
    "    for i in range(len(BinaryList)):\n",
    "        if int(BinaryList[-i-1]) == 1:\n",
    "            DecimalValue += pow(2.0, -(i + 1.0))\n",
    "    return DecimalValue"
   ]
  },
  {
   "cell_type": "markdown",
   "metadata": {},
   "source": [
    "# Hamiltonian setup"
   ]
  },
  {
   "cell_type": "markdown",
   "metadata": {},
   "source": [
    "In this section we will define the Hamiltonian $H = \\sum_{i=0}^{i=N} (1-c_{i-1}^\\dagger c_{i-1}) c_i^\\dagger (1-c_{i+1}^\\dagger c_{i+1})$, where $c_{-1}=c_{N+1}=0$"
   ]
  },
  {
   "cell_type": "code",
   "execution_count": null,
   "metadata": {
    "code_folding": []
   },
   "outputs": [],
   "source": [
    "def CountingOperator(\n",
    "        i\n",
    "):  #This creates cdagger c at some position i and takes the boundary conditions into account\n",
    "\n",
    "    if i == -1:  #Then we are at the first position so there is no left neighbour\n",
    "        return FermionOperator()  #We return '0' so (1 - n_i) = 1\n",
    "    if i == N_lattice - 1:  #Then we are at the final lattice point and we have no right noughbour\n",
    "        return FermionOperator()\n",
    "    i_string_dagger = str(i) + '^ '  #This creates 'i^ '\n",
    "    i_string = str(i)  #This creates 'i'\n",
    "    total_string = i_string_dagger + i_string  #'i^ i'\n",
    "    c_dagger_c = FermionOperator(total_string)  #This makes cdagger_i c_i\n",
    "\n",
    "    return c_dagger_c\n",
    "\n",
    "\n",
    "def Q_dagger_term(i):  #This creates all the individual terms of the sum\n",
    "    i_dagger = str(i) + '^ '  #'i^ '\n",
    "    Identity = FermionOperator('')\n",
    "    term = (Identity - CountingOperator(i - 1)) * FermionOperator(i_dagger) * (\n",
    "        Identity - CountingOperator(i + 1))  #This is the term we will sum\n",
    "\n",
    "    return term\n",
    "\n",
    "\n",
    "Q_dagger = FermionOperator()  #Create empty operator\n",
    "\n",
    "for i in range(N_lattice):  #Now we create our Operator Q\n",
    "    Q_dagger += Q_dagger_term(i)\n",
    "\n",
    "Q = hermitian_conjugated(\n",
    "    Q_dagger)  #We take the Hermitian Conjugate of this operator\n",
    "\n",
    "Hamiltonian = Q * Q_dagger + Q_dagger * Q  #This will be our Hamiltonian"
   ]
  },
  {
   "cell_type": "markdown",
   "metadata": {},
   "source": [
    "# Trotterization setup"
   ]
  },
  {
   "cell_type": "markdown",
   "metadata": {},
   "source": [
    "We take the Jordan-Wigner transformation of the Hamiltonian. Then we use the openfermion command to generate the trotterized version of this Hamiltonian. This gives us the operator $e^{-iH \\delta t}$, for some timestep $\\delta t$. This operator applied to a state time evolves the state under the Hamiltonian."
   ]
  },
  {
   "cell_type": "code",
   "execution_count": null,
   "metadata": {},
   "outputs": [],
   "source": [
    "Hamiltonian_jw = jordan_wigner(\n",
    "    Hamiltonian)  #We take the jordan-wigner transformation\n",
    "\n",
    "#This outputs a generator of the code in the QASM language that have to be applied after eachother on the quantum computer\n",
    "Hamiltonian_trot = trot(\n",
    "    Hamiltonian_jw, evolution_time=precision_evolution_time)\n",
    "\n",
    "\n",
    "#Since openfermion generates code in the QASM format I need to change it a bit to get code in the ProjectQ format.\n",
    "#This command takes as input the lines created by the generator and performs the operations on the qubits in projectq\n",
    "def QASM_to_ProjectQ(string, qubits):\n",
    "    if string[:4] == 'CNOT':  #we perform a CNOT\n",
    "        position_1 = int(string[5])\n",
    "        position_2 = int(string[7])\n",
    "        CNOT | (qubits[position_1], qubits[position_2])\n",
    "\n",
    "    if string[:\n",
    "              1] == 'H':  #If we read out a hadamard we perform itWe perform the Hadamard\n",
    "        H | qubits[int(string[2])]\n",
    "\n",
    "    if string[:1] == 'R':  #We perform a rotation in x,y or z\n",
    "        #we check where the second ' ' is and take the numbers until there as the angle\n",
    "        axes = string[1]\n",
    "        Operation = string[:2]\n",
    "        angle = float(string[3:string.find(' ', 3)])\n",
    "        eval(Operation)(angle) | qubits[int(string[-1])]\n",
    "\n",
    "\n",
    "#This command time evolves some state with the Hamiltonian for some evolution time\n",
    "def time_evolve(qubits, Hamiltonian_trot):\n",
    "    for line in Hamiltonian_trot:\n",
    "        QASM_to_ProjectQ(line, qubits)"
   ]
  },
  {
   "cell_type": "markdown",
   "metadata": {},
   "source": [
    "# Define the quantum circuit that has the second renyi entropy as eigenvalue"
   ]
  },
  {
   "cell_type": "markdown",
   "metadata": {},
   "source": [
    "We implement the operator $O = Swap_A(1 - 2|\\Psi\\rangle \\langle \\Psi|)$ and we will then use the Quantum Amplitude Estimation algorithm to find the eigenvalue of O namely, $\\lambda_\\pm = -e^{\\pm 2i \\theta}$ ,where $\\cos(\\theta)^2 = \\frac{\\langle \\Psi| Swap_A |\\Psi \\rangle + 1}{2}$, and $-\\frac{1}{2} (\\lambda + \\bar{\\lambda})= \\langle \\Psi| Swap_A |\\Psi \\rangle$"
   ]
  },
  {
   "cell_type": "code",
   "execution_count": null,
   "metadata": {},
   "outputs": [],
   "source": [
    "def ProjectorOperator(input_qubit, qureg_1, qureg_2, operator_Q, systemsize_A):\n",
    "    \"\"\"Args: (qureg_1 and qureg_2) twice the state of the system and brings the input_qubit into superposition to be used in the QAE algortihm. We also need the eigenvalue of q of the Operator Q with eigenvalue -1, systemsize_A definese on which part we will perform the SWAP operator.\n",
    "    \n",
    "    Returns: Superposition of the input_qubit to be used in QAE. Ancillary qubits are used and thrown away in the algorithm.\n",
    "    \"\"\"\n",
    "\n",
    "    #Set up the ancilla qubit to be used in the algorithm for the controlled Swap_A V operator\n",
    "\n",
    "    q_Ancilla = eng.allocate_qubit(\n",
    "    )  #Creates 0 state wich by construction will be set to 1 (since the eigenvalue of the operator is -1, its phase is 0.5 which in Binary is 0.1) and then a QFT is applied.\n",
    "\n",
    "    X | q_Ancilla\n",
    "\n",
    "    #Fourier transform of the Ancilla qubits\n",
    "    QFT | q_Ancilla\n",
    "\n",
    "    #Apply the block of Q^dagger Operators\n",
    "    with Control(eng, q_Ancilla):\n",
    "        #We only have one Ancilla qubit and only Q^dagger:\n",
    "        with Dagger(eng):\n",
    "            operator_Q(qureg_1, qureg_2)\n",
    "\n",
    "    #Apply a Hadamard on the ancillary qubit\n",
    "    H | q_Ancilla\n",
    "\n",
    "    #To control on the |0> state we apply an X on all qubits. Then control on the |1>. Then apply an X again.\n",
    "    X | q_Ancilla\n",
    "    with Control(eng, q_Ancilla):\n",
    "        Z | input_qubit\n",
    "    X | q_Ancilla\n",
    "\n",
    "    #Apply a Hadamard on the ancillary qubit\n",
    "    H | q_Ancilla\n",
    "\n",
    "    #Apply the block of Q operators\n",
    "    #We apply Operator Q on both systems together\n",
    "    with Control(eng, q_Ancilla):\n",
    "        operator_Q(qureg_1, qureg_2)\n",
    "\n",
    "    #Control SWAP on the input_qubit\n",
    "    with Control(eng, input_qubit):\n",
    "        for i in range(systemsize_A):\n",
    "            Swap | (qureg_1[i], qureg_2[i])\n",
    "\n",
    "    #Bring the Ancilla back to the computational basis, measure and deallocate\n",
    "    with Dagger(eng):\n",
    "        QFT | q_Ancilla\n",
    "\n",
    "    Measure | q_Ancilla\n",
    "    del q_Ancilla"
   ]
  },
  {
   "cell_type": "markdown",
   "metadata": {},
   "source": [
    "# Quantum Phase Estimation"
   ]
  },
  {
   "cell_type": "code",
   "execution_count": null,
   "metadata": {},
   "outputs": [],
   "source": [
    "#Now we write our Quantum Amplitude Amplification algorithm, where we do a phase estimation to the operator we just created.\n",
    "def QuantumAmplitude(n_precision, qureg_1, qureg_2, operator_Q, systemsize_A):\n",
    "\n",
    "    #Set up phase estimation algorithm\n",
    "    #We set up the desired 0 qubits\n",
    "    qureg_0 = eng.allocate_qureg(n_precision)\n",
    "\n",
    "    #Do a QFT (or the same a Hadamard on every qubit) on these qubits\n",
    "    QFT | qureg_0\n",
    "\n",
    "    for i in range(\n",
    "            n_precision\n",
    "    ):  #loop over the qubits and apply the operator 2**i times for the phase estimation algorithm\n",
    "        with Loop(\n",
    "                eng, 2**i\n",
    "        ):  #We don't need to control on the qubits since this is already done in the operator algorithm. The Operator is performed controlled 2**(n_precision - 1) times on the first qubit and 2**0 times on the last qubit. This way the first qubit we measure will be the first qubit of the base 2 expansion of the phase.\n",
    "            ProjectorOperator(qureg_0[-i-1], qureg_1, qureg_2, operator_Q,\n",
    "                              systemsize_A)\n",
    "#         print('Done the Controlled Operator %i' % (2**i))\n",
    "\n",
    "    #Do the QFT^dagger on qureg_0\n",
    "    with Dagger(eng):\n",
    "        QFT | qureg_0\n",
    "\n",
    "    #Measure all qubits\n",
    "    All(Measure) | qureg_0\n",
    "\n",
    "    #Phase estimation gives us the angle of the eigenvalue.\n",
    "    Phi_Estimation = FractionalBinaryToDecimal(qureg_0)\n",
    "    \n",
    "    for i in range(len(qureg_0)):\n",
    "#         print('Value of %i qubit %i' % (i, int(qureg_0[i])))\n",
    "\n",
    "    print('Estimated angle is  %f' % Phi_Estimation)\n",
    "    ExpTheta = np.exp(2.0 * np.pi * 1.0j * Phi_Estimation)\n",
    "    # #print(ExpTheta)\n",
    "    # ExpThetaConj = np.conjugate(ExpTheta)\n",
    "    # #print(ExpThetaConj)\n",
    "\n",
    "    # R2 = - (ExpTheta + ExpThetaConj) / 2\n",
    "\n",
    "    #Minus the real part of ExpTheta\n",
    "    R2 = -np.real(ExpTheta)\n",
    "    del qureg_0\n",
    "    \n",
    "    return R2"
   ]
  },
  {
   "cell_type": "markdown",
   "metadata": {},
   "source": [
    "# Initial State Preparation and desired Operator"
   ]
  },
  {
   "cell_type": "markdown",
   "metadata": {},
   "source": [
    "This function makes from the all zero state the state $\\frac{1}{\\sqrt{3}}(|01\\rangle + |10 \\rangle + |11\\rangle$). With this function we make the operator that adds a minus to our state of interest and leaves all other states untouched, thus it sends $|\\Phi \\rangle \\to |\\Phi \\rangle$ except for our state $|\\Psi \\rangle \\to -|\\Psi \\rangle$."
   ]
  },
  {
   "cell_type": "code",
   "execution_count": null,
   "metadata": {},
   "outputs": [],
   "source": [
    "def Generate_3_Bell_States_Superposition(q2):\n",
    "    #Bring the state from |00> -> 1/sqrt3 |00> + sqrt2/sqrt3 |10>, the factor of two comes in from the fact that rotations around Y have the angle divided by 2.\n",
    "    Ry( 2.0 * np.arccos( 3**(-0.5) ) ) | q2[0]\n",
    "    \n",
    "    #Now we do a controlled Hadamard to go to 1/sqrt3 (|00> + |10> + |11> )\n",
    "    with Control(eng, q2[0]):\n",
    "        H | q2[1]\n",
    "    \n",
    "    #Now one would want to bring the |00> state to |01> this can be done as follows\n",
    "    \"\"\"\n",
    "    X | q2[0]\n",
    "    with Control(eng, q2[0]):\n",
    "        X | q2[1]\n",
    "    X | q2[0]\n",
    "    \"\"\"\n",
    "    \n",
    "    #But in this case only an X gate on the second qubit would already work\n",
    "    #1/sqrt3 (|00> + |10> + |11> ) -> 1/sqrt3( |01> + |11> + |10> )\n",
    "    X | q2[1]\n",
    "    \n",
    "def Controlled_Q_3qubits(qureg0, qureg1):\n",
    "    #Bring to all zero\n",
    "    with Dagger(eng):\n",
    "        Generate_3_Bell_States_Superposition(qureg0)\n",
    "    with Dagger(eng):\n",
    "        Generate_3_Bell_States_Superposition(qureg1)\n",
    "    \n",
    "    #Take both registers together to perform the control\n",
    "    qureg2 = qureg0 + qureg1 \n",
    "    \n",
    "    All(X) | qureg2\n",
    "    \n",
    "    with Control(eng, qureg2[1:len(qureg2)]):\n",
    "        Z | qureg2[0]\n",
    "    \n",
    "    All(X) | qureg2\n",
    "    \n",
    "    #Bring to proper state again\n",
    "    Generate_3_Bell_States_Superposition(qureg0)\n",
    "    Generate_3_Bell_States_Superposition(qureg1)"
   ]
  },
  {
   "cell_type": "markdown",
   "metadata": {},
   "source": [
    "# Main"
   ]
  },
  {
   "cell_type": "code",
   "execution_count": null,
   "metadata": {
    "scrolled": false
   },
   "outputs": [],
   "source": [
    "result_lst = []\n",
    "\n",
    "for i in tqdm(range(1,12)):\n",
    "    qureg1 = eng.allocate_qureg(2)\n",
    "    qureg2 = eng.allocate_qureg(2)\n",
    "\n",
    "\n",
    "    #Bring the two states into superposition.\n",
    "    Generate_3_Bell_States_Superposition(qureg1)\n",
    "    Generate_3_Bell_States_Superposition(qureg2)\n",
    "\n",
    "    Result = QuantumAmplitude(i, qureg1, qureg2, Controlled_Q_3qubits, 1)\n",
    "    result_lst.append(Result)\n",
    "    \n",
    "    All(Measure) | qureg1\n",
    "    All(Measure) | qureg2\n",
    "    eng.flush() \n",
    "\n",
    "print('Minus the real part of the eigenalue is %f' % Result)\n",
    "Renyi2 = -np.log(Result) / np.log(2)\n",
    "print('Second Renyi entropy is %f' % Renyi2)"
   ]
  },
  {
   "cell_type": "code",
   "execution_count": null,
   "metadata": {},
   "outputs": [],
   "source": [
    "result_lst"
   ]
  },
  {
   "cell_type": "code",
   "execution_count": null,
   "metadata": {},
   "outputs": [],
   "source": [
    "fig = plt.figure(figsize=(10,5))\n",
    "plt.ylim([0.5,1.1])\n",
    "plt.plot(np.linspace(1,12,11), result_lst, label = 'Simulation')\n",
    "plt.plot(np.linspace(1,12,11), [ 7/9 for i in range(11)], label = 'Exact Value')\n",
    "plt.xlabel('Number of ancilla qubits')\n",
    "plt.ylabel(r'Tr[ $\\rho_A^2$ ]')\n",
    "plt.legend()\n",
    "plt.title(r'Estimation of Tr[ $\\rho_A^2$ ] using the Quantum Amplitude Estimation procedure.')\n",
    "plt.show()"
   ]
  }
 ],
 "metadata": {
  "kernelspec": {
   "display_name": "Python 3",
   "language": "python",
   "name": "python3"
  },
  "language_info": {
   "codemirror_mode": {
    "name": "ipython",
    "version": 3
   },
   "file_extension": ".py",
   "mimetype": "text/x-python",
   "name": "python",
   "nbconvert_exporter": "python",
   "pygments_lexer": "ipython3",
   "version": "3.6.7"
  },
  "latex_envs": {
   "LaTeX_envs_menu_present": true,
   "autoclose": true,
   "autocomplete": true,
   "bibliofile": "biblio.bib",
   "cite_by": "apalike",
   "current_citInitial": 1,
   "eqLabelWithNumbers": true,
   "eqNumInitial": 1,
   "hotkeys": {
    "equation": "Ctrl-E",
    "itemize": "Ctrl-I"
   },
   "labels_anchors": false,
   "latex_user_defs": false,
   "report_style_numbering": false,
   "user_envs_cfg": false
  },
  "notify_time": "5",
  "toc": {
   "base_numbering": 1,
   "nav_menu": {},
   "number_sections": true,
   "sideBar": true,
   "skip_h1_title": false,
   "title_cell": "Table of Contents",
   "title_sidebar": "Contents",
   "toc_cell": false,
   "toc_position": {},
   "toc_section_display": true,
   "toc_window_display": false
  },
  "varInspector": {
   "cols": {
    "lenName": 16,
    "lenType": 16,
    "lenVar": 40
   },
   "kernels_config": {
    "python": {
     "delete_cmd_postfix": "",
     "delete_cmd_prefix": "del ",
     "library": "var_list.py",
     "varRefreshCmd": "print(var_dic_list())"
    },
    "r": {
     "delete_cmd_postfix": ") ",
     "delete_cmd_prefix": "rm(",
     "library": "var_list.r",
     "varRefreshCmd": "cat(var_dic_list()) "
    }
   },
   "types_to_exclude": [
    "module",
    "function",
    "builtin_function_or_method",
    "instance",
    "_Feature"
   ],
   "window_display": false
  }
 },
 "nbformat": 4,
 "nbformat_minor": 2
}
